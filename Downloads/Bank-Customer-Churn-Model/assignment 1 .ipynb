{
 "cells": [
  {
   "cell_type": "code",
   "execution_count": 1,
   "id": "37b72ab5",
   "metadata": {},
   "outputs": [],
   "source": [
    "import numpy as np\n",
    "import pandas as pd\n",
    "\n",
    "# For visualization\n",
    "import matplotlib.pyplot as plt\n",
    "%matplotlib inline\n",
    "import seaborn as sns\n",
    "pd.options.display.max_rows = None\n",
    "pd.options.display.max_columns = None"
   ]
  },
  {
   "cell_type": "code",
   "execution_count": 2,
   "id": "c90f542e",
   "metadata": {},
   "outputs": [
    {
     "data": {
      "text/plain": [
       "(10000, 13)"
      ]
     },
     "execution_count": 2,
     "metadata": {},
     "output_type": "execute_result"
    }
   ],
   "source": [
    "# Read the data frame\n",
    "df = pd.read_csv('Bank Churn Modelling.csv', delimiter=',')\n",
    "df.shape"
   ]
  },
  {
   "cell_type": "code",
   "execution_count": 3,
   "id": "4153d400",
   "metadata": {},
   "outputs": [
    {
     "data": {
      "text/plain": [
       "CustomerId          0\n",
       "Surname             0\n",
       "CreditScore         0\n",
       "Geography           0\n",
       "Gender              0\n",
       "Age                 0\n",
       "Tenure              0\n",
       "Balance             0\n",
       "Num Of Products     0\n",
       "Has Credit Card     0\n",
       "Is Active Member    0\n",
       "Estimated Salary    0\n",
       "Churn               0\n",
       "dtype: int64"
      ]
     },
     "execution_count": 3,
     "metadata": {},
     "output_type": "execute_result"
    }
   ],
   "source": [
    "# Check columns list and missing values\n",
    "df.isnull().sum()"
   ]
  },
  {
   "cell_type": "code",
   "execution_count": 4,
   "id": "7741641f",
   "metadata": {},
   "outputs": [],
   "source": [
    "#finding no missing value "
   ]
  },
  {
   "cell_type": "code",
   "execution_count": 5,
   "id": "92593985",
   "metadata": {},
   "outputs": [
    {
     "data": {
      "text/plain": [
       "CustomerId          10000\n",
       "Surname              2932\n",
       "CreditScore           460\n",
       "Geography               3\n",
       "Gender                  2\n",
       "Age                    70\n",
       "Tenure                 11\n",
       "Balance              6382\n",
       "Num Of Products         4\n",
       "Has Credit Card         2\n",
       "Is Active Member        2\n",
       "Estimated Salary     9999\n",
       "Churn                   2\n",
       "dtype: int64"
      ]
     },
     "execution_count": 5,
     "metadata": {},
     "output_type": "execute_result"
    }
   ],
   "source": [
    "# Get unique count for each variable\n",
    "df.nunique()"
   ]
  },
  {
   "cell_type": "code",
   "execution_count": 6,
   "id": "4b815dc1",
   "metadata": {},
   "outputs": [],
   "source": [
    "# Drop the columns as explained above\n",
    "df = df.drop([ \"CustomerId\", \"Surname\"], axis = 1)"
   ]
  },
  {
   "cell_type": "code",
   "execution_count": 7,
   "id": "a2ecd5dd",
   "metadata": {},
   "outputs": [
    {
     "data": {
      "text/html": [
       "<div>\n",
       "<style scoped>\n",
       "    .dataframe tbody tr th:only-of-type {\n",
       "        vertical-align: middle;\n",
       "    }\n",
       "\n",
       "    .dataframe tbody tr th {\n",
       "        vertical-align: top;\n",
       "    }\n",
       "\n",
       "    .dataframe thead th {\n",
       "        text-align: right;\n",
       "    }\n",
       "</style>\n",
       "<table border=\"1\" class=\"dataframe\">\n",
       "  <thead>\n",
       "    <tr style=\"text-align: right;\">\n",
       "      <th></th>\n",
       "      <th>CreditScore</th>\n",
       "      <th>Geography</th>\n",
       "      <th>Gender</th>\n",
       "      <th>Age</th>\n",
       "      <th>Tenure</th>\n",
       "      <th>Balance</th>\n",
       "      <th>Num Of Products</th>\n",
       "      <th>Has Credit Card</th>\n",
       "      <th>Is Active Member</th>\n",
       "      <th>Estimated Salary</th>\n",
       "      <th>Churn</th>\n",
       "    </tr>\n",
       "  </thead>\n",
       "  <tbody>\n",
       "    <tr>\n",
       "      <th>0</th>\n",
       "      <td>619</td>\n",
       "      <td>France</td>\n",
       "      <td>Female</td>\n",
       "      <td>42</td>\n",
       "      <td>2</td>\n",
       "      <td>0.00</td>\n",
       "      <td>1</td>\n",
       "      <td>1</td>\n",
       "      <td>1</td>\n",
       "      <td>101348.88</td>\n",
       "      <td>1</td>\n",
       "    </tr>\n",
       "    <tr>\n",
       "      <th>1</th>\n",
       "      <td>608</td>\n",
       "      <td>Spain</td>\n",
       "      <td>Female</td>\n",
       "      <td>41</td>\n",
       "      <td>1</td>\n",
       "      <td>83807.86</td>\n",
       "      <td>1</td>\n",
       "      <td>0</td>\n",
       "      <td>1</td>\n",
       "      <td>112542.58</td>\n",
       "      <td>0</td>\n",
       "    </tr>\n",
       "    <tr>\n",
       "      <th>2</th>\n",
       "      <td>502</td>\n",
       "      <td>France</td>\n",
       "      <td>Female</td>\n",
       "      <td>42</td>\n",
       "      <td>8</td>\n",
       "      <td>159660.80</td>\n",
       "      <td>3</td>\n",
       "      <td>1</td>\n",
       "      <td>0</td>\n",
       "      <td>113931.57</td>\n",
       "      <td>1</td>\n",
       "    </tr>\n",
       "    <tr>\n",
       "      <th>3</th>\n",
       "      <td>699</td>\n",
       "      <td>France</td>\n",
       "      <td>Female</td>\n",
       "      <td>39</td>\n",
       "      <td>1</td>\n",
       "      <td>0.00</td>\n",
       "      <td>2</td>\n",
       "      <td>0</td>\n",
       "      <td>0</td>\n",
       "      <td>93826.63</td>\n",
       "      <td>0</td>\n",
       "    </tr>\n",
       "    <tr>\n",
       "      <th>4</th>\n",
       "      <td>850</td>\n",
       "      <td>Spain</td>\n",
       "      <td>Female</td>\n",
       "      <td>43</td>\n",
       "      <td>2</td>\n",
       "      <td>125510.82</td>\n",
       "      <td>1</td>\n",
       "      <td>1</td>\n",
       "      <td>1</td>\n",
       "      <td>79084.10</td>\n",
       "      <td>0</td>\n",
       "    </tr>\n",
       "  </tbody>\n",
       "</table>\n",
       "</div>"
      ],
      "text/plain": [
       "   CreditScore Geography  Gender  Age  Tenure    Balance  Num Of Products  \\\n",
       "0          619    France  Female   42       2       0.00                1   \n",
       "1          608     Spain  Female   41       1   83807.86                1   \n",
       "2          502    France  Female   42       8  159660.80                3   \n",
       "3          699    France  Female   39       1       0.00                2   \n",
       "4          850     Spain  Female   43       2  125510.82                1   \n",
       "\n",
       "   Has Credit Card  Is Active Member  Estimated Salary  Churn  \n",
       "0                1                 1         101348.88      1  \n",
       "1                0                 1         112542.58      0  \n",
       "2                1                 0         113931.57      1  \n",
       "3                0                 0          93826.63      0  \n",
       "4                1                 1          79084.10      0  "
      ]
     },
     "execution_count": 7,
     "metadata": {},
     "output_type": "execute_result"
    }
   ],
   "source": [
    "# Review the top rows of what is left of the data frame\n",
    "df.head()"
   ]
  },
  {
   "cell_type": "code",
   "execution_count": 8,
   "id": "7869c0e0",
   "metadata": {},
   "outputs": [
    {
     "data": {
      "text/plain": [
       "CreditScore           int64\n",
       "Geography            object\n",
       "Gender               object\n",
       "Age                   int64\n",
       "Tenure                int64\n",
       "Balance             float64\n",
       "Num Of Products       int64\n",
       "Has Credit Card       int64\n",
       "Is Active Member      int64\n",
       "Estimated Salary    float64\n",
       "Churn                 int64\n",
       "dtype: object"
      ]
     },
     "execution_count": 8,
     "metadata": {},
     "output_type": "execute_result"
    }
   ],
   "source": [
    "# Check variable data types\n",
    "df.dtypes"
   ]
  },
  {
   "cell_type": "code",
   "execution_count": 9,
   "id": "3dff3ac3",
   "metadata": {},
   "outputs": [],
   "source": [
    "#Exploratory Data Analysis"
   ]
  },
  {
   "cell_type": "code",
   "execution_count": 10,
   "id": "e7c7f673",
   "metadata": {},
   "outputs": [
    {
     "data": {
      "image/png": "[encoded data removed]",
      "text/plain": [
       "<Figure size 1000x800 with 1 Axes>"
      ]
     },
     "metadata": {},
     "output_type": "display_data"
    }
   ],
   "source": [
    "# Exploratory Data Analysis\n",
    "labels = 'Churn', 'Retained'\n",
    "sizes = [df.Churn[df['Churn'] == 1].count(), df.Churn[df['Churn'] == 0].count()]\n",
    "explode = (0, 0.1)\n",
    "fig1, ax1 = plt.subplots(figsize=(10, 8))\n",
    "ax1.pie(sizes, explode=explode, labels=labels, autopct='%1.1f%%',\n",
    "        shadow=True, startangle=90)\n",
    "ax1.axis('equal')\n",
    "plt.title(\"Proportion of customer churned and retained\", size=20)\n",
    "plt.show()\n"
   ]
  },
  {
   "cell_type": "code",
   "execution_count": 11,
   "id": "334f3651",
   "metadata": {},
   "outputs": [
    {
     "data": {
      "text/plain": [
       "<AxesSubplot:xlabel='Is Active Member', ylabel='count'>"
      ]
     },
     "execution_count": 11,
     "metadata": {},
     "output_type": "execute_result"
    },
    {
     "data": {
      "image/png": "[encoded data removed]",
      "text/plain": [
       "<Figure size 2000x1200 with 4 Axes>"
      ]
     },
     "metadata": {},
     "output_type": "display_data"
    }
   ],
   "source": [
    "# We first review the 'Status' relation with categorical variables\n",
    "fig, axarr = plt.subplots(2, 2, figsize=(20, 12))\n",
    "sns.countplot(x='Geography', hue='Churn', data=df, ax=axarr[0][0])\n",
    "sns.countplot(x='Gender', hue='Churn', data=df, ax=axarr[0][1])\n",
    "sns.countplot(x='Has Credit Card', hue='Churn', data=df, ax=axarr[1][0])\n",
    "sns.countplot(x='Is Active Member', hue='Churn', data=df, ax=axarr[1][1])\n"
   ]
  },
  {
   "cell_type": "code",
   "execution_count": 12,
   "id": "d4cf6239",
   "metadata": {},
   "outputs": [
    {
     "data": {
      "text/plain": [
       "<AxesSubplot:xlabel='Churn', ylabel='Estimated Salary'>"
      ]
     },
     "execution_count": 12,
     "metadata": {},
     "output_type": "execute_result"
    },
    {
     "data": {
      "image/png": "[encoded data removed]",
      "text/plain": [
       "<Figure size 2000x1200 with 6 Axes>"
      ]
     },
     "metadata": {},
     "output_type": "display_data"
    }
   ],
   "source": [
    "# Relations based on the continuous data attributes\n",
    "fig, axarr = plt.subplots(3, 2, figsize=(20, 12))\n",
    "sns.boxplot(y='CreditScore', x='Churn', hue='Churn', data=df, ax=axarr[0][0])\n",
    "sns.boxplot(y='Age', x='Churn', hue='Churn', data=df, ax=axarr[0][1])\n",
    "sns.boxplot(y='Tenure', x='Churn', hue='Churn', data=df, ax=axarr[1][0])\n",
    "sns.boxplot(y='Balance', x='Churn', hue='Churn', data=df, ax=axarr[1][1])\n",
    "sns.boxplot(y='Num Of Products', x='Churn', hue='Churn', data=df, ax=axarr[2][0])\n",
    "sns.boxplot(y='Estimated Salary', x='Churn', hue='Churn', data=df, ax=axarr[2][1])\n"
   ]
  },
  {
   "cell_type": "code",
   "execution_count": 13,
   "id": "9976fc82",
   "metadata": {},
   "outputs": [],
   "source": [
    "#Feature engineering"
   ]
  },
  {
   "cell_type": "code",
   "execution_count": 14,
   "id": "50ad8edc",
   "metadata": {},
   "outputs": [
    {
     "name": "stdout",
     "output_type": "stream",
     "text": [
      "8000\n",
      "2000\n"
     ]
    }
   ],
   "source": [
    "# Split Train, test data\n",
    "df_train = df.sample(frac=0.8,random_state=200)\n",
    "df_test = df.drop(df_train.index)\n",
    "print(len(df_train))\n",
    "print(len(df_test))"
   ]
  },
  {
   "cell_type": "code",
   "execution_count": 15,
   "id": "efec1e3d",
   "metadata": {},
   "outputs": [
    {
     "data": {
      "text/plain": [
       "(-1.0, 5.0)"
      ]
     },
     "execution_count": 15,
     "metadata": {},
     "output_type": "execute_result"
    },
    {
     "data": {
      "image/png": "[encoded data removed]",
      "text/plain": [
       "<Figure size 640x480 with 1 Axes>"
      ]
     },
     "metadata": {},
     "output_type": "display_data"
    }
   ],
   "source": [
    "df_train['BalanceSalaryRatio'] = df_train['Balance'] / df_train['Estimated Salary']\n",
    "sns.boxplot(y='BalanceSalaryRatio', x='Churn', hue='Churn', data=df_train)\n",
    "plt.ylim(-1, 5)\n",
    "sns.boxplot(y='BalanceSalaryRatio', x='Churn', hue='Churn', data=df_train)\n",
    "plt.ylim(-1, 5)\n"
   ]
  },
  {
   "cell_type": "code",
   "execution_count": 16,
   "id": "7c3c126a",
   "metadata": {},
   "outputs": [
    {
     "data": {
      "image/png": "[encoded data removed]",
      "text/plain": [
       "<Figure size 640x480 with 1 Axes>"
      ]
     },
     "metadata": {},
     "output_type": "display_data"
    }
   ],
   "source": [
    "df_train['TenureByAge'] = df_train['Tenure'] / df_train['Age']\n",
    "sns.boxplot(y='TenureByAge', x='Churn', hue='Churn', data=df_train)\n",
    "plt.ylim(-1, 1)\n",
    "plt.show()\n"
   ]
  },
  {
   "cell_type": "code",
   "execution_count": 17,
   "id": "715a383c",
   "metadata": {},
   "outputs": [],
   "source": [
    "df_train['CreditScoreGivenAge'] = df_train.CreditScore/(df_train.Age)"
   ]
  },
  {
   "cell_type": "code",
   "execution_count": 18,
   "id": "49a6e0a1",
   "metadata": {},
   "outputs": [
    {
     "data": {
      "text/html": [
       "<div>\n",
       "<style scoped>\n",
       "    .dataframe tbody tr th:only-of-type {\n",
       "        vertical-align: middle;\n",
       "    }\n",
       "\n",
       "    .dataframe tbody tr th {\n",
       "        vertical-align: top;\n",
       "    }\n",
       "\n",
       "    .dataframe thead th {\n",
       "        text-align: right;\n",
       "    }\n",
       "</style>\n",
       "<table border=\"1\" class=\"dataframe\">\n",
       "  <thead>\n",
       "    <tr style=\"text-align: right;\">\n",
       "      <th></th>\n",
       "      <th>CreditScore</th>\n",
       "      <th>Geography</th>\n",
       "      <th>Gender</th>\n",
       "      <th>Age</th>\n",
       "      <th>Tenure</th>\n",
       "      <th>Balance</th>\n",
       "      <th>Num Of Products</th>\n",
       "      <th>Has Credit Card</th>\n",
       "      <th>Is Active Member</th>\n",
       "      <th>Estimated Salary</th>\n",
       "      <th>Churn</th>\n",
       "      <th>BalanceSalaryRatio</th>\n",
       "      <th>TenureByAge</th>\n",
       "      <th>CreditScoreGivenAge</th>\n",
       "    </tr>\n",
       "  </thead>\n",
       "  <tbody>\n",
       "    <tr>\n",
       "      <th>8159</th>\n",
       "      <td>461</td>\n",
       "      <td>Spain</td>\n",
       "      <td>Female</td>\n",
       "      <td>25</td>\n",
       "      <td>6</td>\n",
       "      <td>0.00</td>\n",
       "      <td>2</td>\n",
       "      <td>1</td>\n",
       "      <td>1</td>\n",
       "      <td>15306.29</td>\n",
       "      <td>0</td>\n",
       "      <td>0.000000</td>\n",
       "      <td>0.240000</td>\n",
       "      <td>18.440000</td>\n",
       "    </tr>\n",
       "    <tr>\n",
       "      <th>6332</th>\n",
       "      <td>619</td>\n",
       "      <td>France</td>\n",
       "      <td>Female</td>\n",
       "      <td>35</td>\n",
       "      <td>4</td>\n",
       "      <td>90413.12</td>\n",
       "      <td>1</td>\n",
       "      <td>1</td>\n",
       "      <td>1</td>\n",
       "      <td>20555.21</td>\n",
       "      <td>0</td>\n",
       "      <td>4.398550</td>\n",
       "      <td>0.114286</td>\n",
       "      <td>17.685714</td>\n",
       "    </tr>\n",
       "    <tr>\n",
       "      <th>8895</th>\n",
       "      <td>699</td>\n",
       "      <td>France</td>\n",
       "      <td>Female</td>\n",
       "      <td>40</td>\n",
       "      <td>8</td>\n",
       "      <td>122038.34</td>\n",
       "      <td>1</td>\n",
       "      <td>1</td>\n",
       "      <td>0</td>\n",
       "      <td>102085.35</td>\n",
       "      <td>0</td>\n",
       "      <td>1.195454</td>\n",
       "      <td>0.200000</td>\n",
       "      <td>17.475000</td>\n",
       "    </tr>\n",
       "    <tr>\n",
       "      <th>5351</th>\n",
       "      <td>558</td>\n",
       "      <td>Germany</td>\n",
       "      <td>Male</td>\n",
       "      <td>41</td>\n",
       "      <td>2</td>\n",
       "      <td>124227.14</td>\n",
       "      <td>1</td>\n",
       "      <td>1</td>\n",
       "      <td>1</td>\n",
       "      <td>111184.67</td>\n",
       "      <td>0</td>\n",
       "      <td>1.117305</td>\n",
       "      <td>0.048780</td>\n",
       "      <td>13.609756</td>\n",
       "    </tr>\n",
       "    <tr>\n",
       "      <th>4314</th>\n",
       "      <td>638</td>\n",
       "      <td>France</td>\n",
       "      <td>Male</td>\n",
       "      <td>34</td>\n",
       "      <td>5</td>\n",
       "      <td>133501.36</td>\n",
       "      <td>1</td>\n",
       "      <td>0</td>\n",
       "      <td>1</td>\n",
       "      <td>155643.04</td>\n",
       "      <td>0</td>\n",
       "      <td>0.857741</td>\n",
       "      <td>0.147059</td>\n",
       "      <td>18.764706</td>\n",
       "    </tr>\n",
       "  </tbody>\n",
       "</table>\n",
       "</div>"
      ],
      "text/plain": [
       "      CreditScore Geography  Gender  Age  Tenure    Balance  Num Of Products  \\\n",
       "8159          461     Spain  Female   25       6       0.00                2   \n",
       "6332          619    France  Female   35       4   90413.12                1   \n",
       "8895          699    France  Female   40       8  122038.34                1   \n",
       "5351          558   Germany    Male   41       2  124227.14                1   \n",
       "4314          638    France    Male   34       5  133501.36                1   \n",
       "\n",
       "      Has Credit Card  Is Active Member  Estimated Salary  Churn  \\\n",
       "8159                1                 1          15306.29      0   \n",
       "6332                1                 1          20555.21      0   \n",
       "8895                1                 0         102085.35      0   \n",
       "5351                1                 1         111184.67      0   \n",
       "4314                0                 1         155643.04      0   \n",
       "\n",
       "      BalanceSalaryRatio  TenureByAge  CreditScoreGivenAge  \n",
       "8159            0.000000     0.240000            18.440000  \n",
       "6332            4.398550     0.114286            17.685714  \n",
       "8895            1.195454     0.200000            17.475000  \n",
       "5351            1.117305     0.048780            13.609756  \n",
       "4314            0.857741     0.147059            18.764706  "
      ]
     },
     "execution_count": 18,
     "metadata": {},
     "output_type": "execute_result"
    }
   ],
   "source": [
    "# Resulting Data Frame\n",
    "df_train.head()"
   ]
  },
  {
   "cell_type": "code",
   "execution_count": 19,
   "id": "203cde71",
   "metadata": {},
   "outputs": [],
   "source": [
    "#Data prep for model fitting"
   ]
  },
  {
   "cell_type": "code",
   "execution_count": 21,
   "id": "0a1991a1",
   "metadata": {},
   "outputs": [
    {
     "data": {
      "text/html": [
       "<div>\n",
       "<style scoped>\n",
       "    .dataframe tbody tr th:only-of-type {\n",
       "        vertical-align: middle;\n",
       "    }\n",
       "\n",
       "    .dataframe tbody tr th {\n",
       "        vertical-align: top;\n",
       "    }\n",
       "\n",
       "    .dataframe thead th {\n",
       "        text-align: right;\n",
       "    }\n",
       "</style>\n",
       "<table border=\"1\" class=\"dataframe\">\n",
       "  <thead>\n",
       "    <tr style=\"text-align: right;\">\n",
       "      <th></th>\n",
       "      <th>Churn</th>\n",
       "      <th>CreditScore</th>\n",
       "      <th>Age</th>\n",
       "      <th>Tenure</th>\n",
       "      <th>Balance</th>\n",
       "      <th>Num Of Products</th>\n",
       "      <th>Estimated Salary</th>\n",
       "      <th>BalanceSalaryRatio</th>\n",
       "      <th>TenureByAge</th>\n",
       "      <th>CreditScoreGivenAge</th>\n",
       "      <th>Has Credit Card</th>\n",
       "      <th>Is Active Member</th>\n",
       "      <th>Geography</th>\n",
       "      <th>Gender</th>\n",
       "    </tr>\n",
       "  </thead>\n",
       "  <tbody>\n",
       "    <tr>\n",
       "      <th>8159</th>\n",
       "      <td>0</td>\n",
       "      <td>461</td>\n",
       "      <td>25</td>\n",
       "      <td>6</td>\n",
       "      <td>0.00</td>\n",
       "      <td>2</td>\n",
       "      <td>15306.29</td>\n",
       "      <td>0.000000</td>\n",
       "      <td>0.240000</td>\n",
       "      <td>18.440000</td>\n",
       "      <td>1</td>\n",
       "      <td>1</td>\n",
       "      <td>Spain</td>\n",
       "      <td>Female</td>\n",
       "    </tr>\n",
       "    <tr>\n",
       "      <th>6332</th>\n",
       "      <td>0</td>\n",
       "      <td>619</td>\n",
       "      <td>35</td>\n",
       "      <td>4</td>\n",
       "      <td>90413.12</td>\n",
       "      <td>1</td>\n",
       "      <td>20555.21</td>\n",
       "      <td>4.398550</td>\n",
       "      <td>0.114286</td>\n",
       "      <td>17.685714</td>\n",
       "      <td>1</td>\n",
       "      <td>1</td>\n",
       "      <td>France</td>\n",
       "      <td>Female</td>\n",
       "    </tr>\n",
       "    <tr>\n",
       "      <th>8895</th>\n",
       "      <td>0</td>\n",
       "      <td>699</td>\n",
       "      <td>40</td>\n",
       "      <td>8</td>\n",
       "      <td>122038.34</td>\n",
       "      <td>1</td>\n",
       "      <td>102085.35</td>\n",
       "      <td>1.195454</td>\n",
       "      <td>0.200000</td>\n",
       "      <td>17.475000</td>\n",
       "      <td>1</td>\n",
       "      <td>0</td>\n",
       "      <td>France</td>\n",
       "      <td>Female</td>\n",
       "    </tr>\n",
       "    <tr>\n",
       "      <th>5351</th>\n",
       "      <td>0</td>\n",
       "      <td>558</td>\n",
       "      <td>41</td>\n",
       "      <td>2</td>\n",
       "      <td>124227.14</td>\n",
       "      <td>1</td>\n",
       "      <td>111184.67</td>\n",
       "      <td>1.117305</td>\n",
       "      <td>0.048780</td>\n",
       "      <td>13.609756</td>\n",
       "      <td>1</td>\n",
       "      <td>1</td>\n",
       "      <td>Germany</td>\n",
       "      <td>Male</td>\n",
       "    </tr>\n",
       "    <tr>\n",
       "      <th>4314</th>\n",
       "      <td>0</td>\n",
       "      <td>638</td>\n",
       "      <td>34</td>\n",
       "      <td>5</td>\n",
       "      <td>133501.36</td>\n",
       "      <td>1</td>\n",
       "      <td>155643.04</td>\n",
       "      <td>0.857741</td>\n",
       "      <td>0.147059</td>\n",
       "      <td>18.764706</td>\n",
       "      <td>0</td>\n",
       "      <td>1</td>\n",
       "      <td>France</td>\n",
       "      <td>Male</td>\n",
       "    </tr>\n",
       "  </tbody>\n",
       "</table>\n",
       "</div>"
      ],
      "text/plain": [
       "      Churn  CreditScore  Age  Tenure    Balance  Num Of Products  \\\n",
       "8159      0          461   25       6       0.00                2   \n",
       "6332      0          619   35       4   90413.12                1   \n",
       "8895      0          699   40       8  122038.34                1   \n",
       "5351      0          558   41       2  124227.14                1   \n",
       "4314      0          638   34       5  133501.36                1   \n",
       "\n",
       "      Estimated Salary  BalanceSalaryRatio  TenureByAge  CreditScoreGivenAge  \\\n",
       "8159          15306.29            0.000000     0.240000            18.440000   \n",
       "6332          20555.21            4.398550     0.114286            17.685714   \n",
       "8895         102085.35            1.195454     0.200000            17.475000   \n",
       "5351         111184.67            1.117305     0.048780            13.609756   \n",
       "4314         155643.04            0.857741     0.147059            18.764706   \n",
       "\n",
       "      Has Credit Card  Is Active Member Geography  Gender  \n",
       "8159                1                 1     Spain  Female  \n",
       "6332                1                 1    France  Female  \n",
       "8895                1                 0    France  Female  \n",
       "5351                1                 1   Germany    Male  \n",
       "4314                0                 1    France    Male  "
      ]
     },
     "execution_count": 21,
     "metadata": {},
     "output_type": "execute_result"
    }
   ],
   "source": [
    "# Arrange columns by data type for easier manipulation\n",
    "continuous_vars = ['CreditScore', 'Age', 'Tenure', 'Balance', 'Num Of Products', 'Estimated Salary', 'BalanceSalaryRatio', 'TenureByAge', 'CreditScoreGivenAge']\n",
    "cat_vars = ['Has Credit Card', 'Is Active Member', 'Geography', 'Gender']  # Corrected column names\n",
    "\n",
    "# Combine all variables\n",
    "selected_vars = ['Churn'] + continuous_vars + cat_vars\n",
    "\n",
    "# Select the columns in the DataFrame\n",
    "df_train = df_train[selected_vars]\n",
    "df_train.head()\n"
   ]
  },
  {
   "cell_type": "code",
   "execution_count": 23,
   "id": "308baea4",
   "metadata": {},
   "outputs": [
    {
     "data": {
      "text/html": [
       "<div>\n",
       "<style scoped>\n",
       "    .dataframe tbody tr th:only-of-type {\n",
       "        vertical-align: middle;\n",
       "    }\n",
       "\n",
       "    .dataframe tbody tr th {\n",
       "        vertical-align: top;\n",
       "    }\n",
       "\n",
       "    .dataframe thead th {\n",
       "        text-align: right;\n",
       "    }\n",
       "</style>\n",
       "<table border=\"1\" class=\"dataframe\">\n",
       "  <thead>\n",
       "    <tr style=\"text-align: right;\">\n",
       "      <th></th>\n",
       "      <th>Churn</th>\n",
       "      <th>CreditScore</th>\n",
       "      <th>Age</th>\n",
       "      <th>Tenure</th>\n",
       "      <th>Balance</th>\n",
       "      <th>Num Of Products</th>\n",
       "      <th>Estimated Salary</th>\n",
       "      <th>BalanceSalaryRatio</th>\n",
       "      <th>TenureByAge</th>\n",
       "      <th>CreditScoreGivenAge</th>\n",
       "      <th>Has Credit Card</th>\n",
       "      <th>Is Active Member</th>\n",
       "      <th>Geography</th>\n",
       "      <th>Gender</th>\n",
       "    </tr>\n",
       "  </thead>\n",
       "  <tbody>\n",
       "    <tr>\n",
       "      <th>8159</th>\n",
       "      <td>0</td>\n",
       "      <td>461</td>\n",
       "      <td>25</td>\n",
       "      <td>6</td>\n",
       "      <td>0.00</td>\n",
       "      <td>2</td>\n",
       "      <td>15306.29</td>\n",
       "      <td>0.000000</td>\n",
       "      <td>0.240000</td>\n",
       "      <td>18.440000</td>\n",
       "      <td>1</td>\n",
       "      <td>1</td>\n",
       "      <td>Spain</td>\n",
       "      <td>Female</td>\n",
       "    </tr>\n",
       "    <tr>\n",
       "      <th>6332</th>\n",
       "      <td>0</td>\n",
       "      <td>619</td>\n",
       "      <td>35</td>\n",
       "      <td>4</td>\n",
       "      <td>90413.12</td>\n",
       "      <td>1</td>\n",
       "      <td>20555.21</td>\n",
       "      <td>4.398550</td>\n",
       "      <td>0.114286</td>\n",
       "      <td>17.685714</td>\n",
       "      <td>1</td>\n",
       "      <td>1</td>\n",
       "      <td>France</td>\n",
       "      <td>Female</td>\n",
       "    </tr>\n",
       "    <tr>\n",
       "      <th>8895</th>\n",
       "      <td>0</td>\n",
       "      <td>699</td>\n",
       "      <td>40</td>\n",
       "      <td>8</td>\n",
       "      <td>122038.34</td>\n",
       "      <td>1</td>\n",
       "      <td>102085.35</td>\n",
       "      <td>1.195454</td>\n",
       "      <td>0.200000</td>\n",
       "      <td>17.475000</td>\n",
       "      <td>1</td>\n",
       "      <td>-1</td>\n",
       "      <td>France</td>\n",
       "      <td>Female</td>\n",
       "    </tr>\n",
       "    <tr>\n",
       "      <th>5351</th>\n",
       "      <td>0</td>\n",
       "      <td>558</td>\n",
       "      <td>41</td>\n",
       "      <td>2</td>\n",
       "      <td>124227.14</td>\n",
       "      <td>1</td>\n",
       "      <td>111184.67</td>\n",
       "      <td>1.117305</td>\n",
       "      <td>0.048780</td>\n",
       "      <td>13.609756</td>\n",
       "      <td>1</td>\n",
       "      <td>1</td>\n",
       "      <td>Germany</td>\n",
       "      <td>Male</td>\n",
       "    </tr>\n",
       "    <tr>\n",
       "      <th>4314</th>\n",
       "      <td>0</td>\n",
       "      <td>638</td>\n",
       "      <td>34</td>\n",
       "      <td>5</td>\n",
       "      <td>133501.36</td>\n",
       "      <td>1</td>\n",
       "      <td>155643.04</td>\n",
       "      <td>0.857741</td>\n",
       "      <td>0.147059</td>\n",
       "      <td>18.764706</td>\n",
       "      <td>-1</td>\n",
       "      <td>1</td>\n",
       "      <td>France</td>\n",
       "      <td>Male</td>\n",
       "    </tr>\n",
       "  </tbody>\n",
       "</table>\n",
       "</div>"
      ],
      "text/plain": [
       "      Churn  CreditScore  Age  Tenure    Balance  Num Of Products  \\\n",
       "8159      0          461   25       6       0.00                2   \n",
       "6332      0          619   35       4   90413.12                1   \n",
       "8895      0          699   40       8  122038.34                1   \n",
       "5351      0          558   41       2  124227.14                1   \n",
       "4314      0          638   34       5  133501.36                1   \n",
       "\n",
       "      Estimated Salary  BalanceSalaryRatio  TenureByAge  CreditScoreGivenAge  \\\n",
       "8159          15306.29            0.000000     0.240000            18.440000   \n",
       "6332          20555.21            4.398550     0.114286            17.685714   \n",
       "8895         102085.35            1.195454     0.200000            17.475000   \n",
       "5351         111184.67            1.117305     0.048780            13.609756   \n",
       "4314         155643.04            0.857741     0.147059            18.764706   \n",
       "\n",
       "      Has Credit Card  Is Active Member Geography  Gender  \n",
       "8159                1                 1     Spain  Female  \n",
       "6332                1                 1    France  Female  \n",
       "8895                1                -1    France  Female  \n",
       "5351                1                 1   Germany    Male  \n",
       "4314               -1                 1    France    Male  "
      ]
     },
     "execution_count": 23,
     "metadata": {},
     "output_type": "execute_result"
    }
   ],
   "source": [
    "df_train.loc[df_train['Has Credit Card'] == 0, 'Has Credit Card'] = -1\n",
    "df_train.loc[df_train['Is Active Member'] == 0, 'Is Active Member'] = -1\n",
    "df_train.head()\n"
   ]
  },
  {
   "cell_type": "code",
   "execution_count": 26,
   "id": "c710d3f8",
   "metadata": {},
   "outputs": [
    {
     "name": "stderr",
     "output_type": "stream",
     "text": [
      "C:\\Users\\ISHIMWE K AHMED\\AppData\\Local\\Temp\\ipykernel_11164\\4076672460.py:14: SettingWithCopyWarning: \n",
      "A value is trying to be set on a copy of a slice from a DataFrame.\n",
      "Try using .loc[row_indexer,col_indexer] = value instead\n",
      "\n",
      "See the caveats in the documentation: https://pandas.pydata.org/pandas-docs/stable/user_guide/indexing.html#returning-a-view-versus-a-copy\n",
      "  df_train[i + '_' + j] = np.where(df_train[i] == j, 1, -1)\n",
      "C:\\Users\\ISHIMWE K AHMED\\AppData\\Local\\Temp\\ipykernel_11164\\4076672460.py:14: SettingWithCopyWarning: \n",
      "A value is trying to be set on a copy of a slice from a DataFrame.\n",
      "Try using .loc[row_indexer,col_indexer] = value instead\n",
      "\n",
      "See the caveats in the documentation: https://pandas.pydata.org/pandas-docs/stable/user_guide/indexing.html#returning-a-view-versus-a-copy\n",
      "  df_train[i + '_' + j] = np.where(df_train[i] == j, 1, -1)\n",
      "C:\\Users\\ISHIMWE K AHMED\\AppData\\Local\\Temp\\ipykernel_11164\\4076672460.py:14: SettingWithCopyWarning: \n",
      "A value is trying to be set on a copy of a slice from a DataFrame.\n",
      "Try using .loc[row_indexer,col_indexer] = value instead\n",
      "\n",
      "See the caveats in the documentation: https://pandas.pydata.org/pandas-docs/stable/user_guide/indexing.html#returning-a-view-versus-a-copy\n",
      "  df_train[i + '_' + j] = np.where(df_train[i] == j, 1, -1)\n",
      "C:\\Users\\ISHIMWE K AHMED\\AppData\\Local\\Temp\\ipykernel_11164\\4076672460.py:14: SettingWithCopyWarning: \n",
      "A value is trying to be set on a copy of a slice from a DataFrame.\n",
      "Try using .loc[row_indexer,col_indexer] = value instead\n",
      "\n",
      "See the caveats in the documentation: https://pandas.pydata.org/pandas-docs/stable/user_guide/indexing.html#returning-a-view-versus-a-copy\n",
      "  df_train[i + '_' + j] = np.where(df_train[i] == j, 1, -1)\n",
      "C:\\Users\\ISHIMWE K AHMED\\AppData\\Local\\Temp\\ipykernel_11164\\4076672460.py:14: SettingWithCopyWarning: \n",
      "A value is trying to be set on a copy of a slice from a DataFrame.\n",
      "Try using .loc[row_indexer,col_indexer] = value instead\n",
      "\n",
      "See the caveats in the documentation: https://pandas.pydata.org/pandas-docs/stable/user_guide/indexing.html#returning-a-view-versus-a-copy\n",
      "  df_train[i + '_' + j] = np.where(df_train[i] == j, 1, -1)\n"
     ]
    },
    {
     "data": {
      "text/html": [
       "<div>\n",
       "<style scoped>\n",
       "    .dataframe tbody tr th:only-of-type {\n",
       "        vertical-align: middle;\n",
       "    }\n",
       "\n",
       "    .dataframe tbody tr th {\n",
       "        vertical-align: top;\n",
       "    }\n",
       "\n",
       "    .dataframe thead th {\n",
       "        text-align: right;\n",
       "    }\n",
       "</style>\n",
       "<table border=\"1\" class=\"dataframe\">\n",
       "  <thead>\n",
       "    <tr style=\"text-align: right;\">\n",
       "      <th></th>\n",
       "      <th>Churn</th>\n",
       "      <th>CreditScore</th>\n",
       "      <th>Age</th>\n",
       "      <th>Tenure</th>\n",
       "      <th>Balance</th>\n",
       "      <th>Num Of Products</th>\n",
       "      <th>Estimated Salary</th>\n",
       "      <th>BalanceSalaryRatio</th>\n",
       "      <th>TenureByAge</th>\n",
       "      <th>CreditScoreGivenAge</th>\n",
       "      <th>Has Credit Card</th>\n",
       "      <th>Is Active Member</th>\n",
       "      <th>Geography_Spain</th>\n",
       "      <th>Geography_France</th>\n",
       "      <th>Geography_Germany</th>\n",
       "      <th>Gender_Female</th>\n",
       "      <th>Gender_Male</th>\n",
       "    </tr>\n",
       "  </thead>\n",
       "  <tbody>\n",
       "    <tr>\n",
       "      <th>8159</th>\n",
       "      <td>0</td>\n",
       "      <td>461</td>\n",
       "      <td>25</td>\n",
       "      <td>6</td>\n",
       "      <td>0.00</td>\n",
       "      <td>2</td>\n",
       "      <td>15306.29</td>\n",
       "      <td>0.000000</td>\n",
       "      <td>0.240000</td>\n",
       "      <td>18.440000</td>\n",
       "      <td>1</td>\n",
       "      <td>1</td>\n",
       "      <td>1</td>\n",
       "      <td>-1</td>\n",
       "      <td>-1</td>\n",
       "      <td>1</td>\n",
       "      <td>-1</td>\n",
       "    </tr>\n",
       "    <tr>\n",
       "      <th>6332</th>\n",
       "      <td>0</td>\n",
       "      <td>619</td>\n",
       "      <td>35</td>\n",
       "      <td>4</td>\n",
       "      <td>90413.12</td>\n",
       "      <td>1</td>\n",
       "      <td>20555.21</td>\n",
       "      <td>4.398550</td>\n",
       "      <td>0.114286</td>\n",
       "      <td>17.685714</td>\n",
       "      <td>1</td>\n",
       "      <td>1</td>\n",
       "      <td>-1</td>\n",
       "      <td>1</td>\n",
       "      <td>-1</td>\n",
       "      <td>1</td>\n",
       "      <td>-1</td>\n",
       "    </tr>\n",
       "    <tr>\n",
       "      <th>8895</th>\n",
       "      <td>0</td>\n",
       "      <td>699</td>\n",
       "      <td>40</td>\n",
       "      <td>8</td>\n",
       "      <td>122038.34</td>\n",
       "      <td>1</td>\n",
       "      <td>102085.35</td>\n",
       "      <td>1.195454</td>\n",
       "      <td>0.200000</td>\n",
       "      <td>17.475000</td>\n",
       "      <td>1</td>\n",
       "      <td>-1</td>\n",
       "      <td>-1</td>\n",
       "      <td>1</td>\n",
       "      <td>-1</td>\n",
       "      <td>1</td>\n",
       "      <td>-1</td>\n",
       "    </tr>\n",
       "    <tr>\n",
       "      <th>5351</th>\n",
       "      <td>0</td>\n",
       "      <td>558</td>\n",
       "      <td>41</td>\n",
       "      <td>2</td>\n",
       "      <td>124227.14</td>\n",
       "      <td>1</td>\n",
       "      <td>111184.67</td>\n",
       "      <td>1.117305</td>\n",
       "      <td>0.048780</td>\n",
       "      <td>13.609756</td>\n",
       "      <td>1</td>\n",
       "      <td>1</td>\n",
       "      <td>-1</td>\n",
       "      <td>-1</td>\n",
       "      <td>1</td>\n",
       "      <td>-1</td>\n",
       "      <td>1</td>\n",
       "    </tr>\n",
       "    <tr>\n",
       "      <th>4314</th>\n",
       "      <td>0</td>\n",
       "      <td>638</td>\n",
       "      <td>34</td>\n",
       "      <td>5</td>\n",
       "      <td>133501.36</td>\n",
       "      <td>1</td>\n",
       "      <td>155643.04</td>\n",
       "      <td>0.857741</td>\n",
       "      <td>0.147059</td>\n",
       "      <td>18.764706</td>\n",
       "      <td>-1</td>\n",
       "      <td>1</td>\n",
       "      <td>-1</td>\n",
       "      <td>1</td>\n",
       "      <td>-1</td>\n",
       "      <td>-1</td>\n",
       "      <td>1</td>\n",
       "    </tr>\n",
       "  </tbody>\n",
       "</table>\n",
       "</div>"
      ],
      "text/plain": [
       "      Churn  CreditScore  Age  Tenure    Balance  Num Of Products  \\\n",
       "8159      0          461   25       6       0.00                2   \n",
       "6332      0          619   35       4   90413.12                1   \n",
       "8895      0          699   40       8  122038.34                1   \n",
       "5351      0          558   41       2  124227.14                1   \n",
       "4314      0          638   34       5  133501.36                1   \n",
       "\n",
       "      Estimated Salary  BalanceSalaryRatio  TenureByAge  CreditScoreGivenAge  \\\n",
       "8159          15306.29            0.000000     0.240000            18.440000   \n",
       "6332          20555.21            4.398550     0.114286            17.685714   \n",
       "8895         102085.35            1.195454     0.200000            17.475000   \n",
       "5351         111184.67            1.117305     0.048780            13.609756   \n",
       "4314         155643.04            0.857741     0.147059            18.764706   \n",
       "\n",
       "      Has Credit Card  Is Active Member  Geography_Spain  Geography_France  \\\n",
       "8159                1                 1                1                -1   \n",
       "6332                1                 1               -1                 1   \n",
       "8895                1                -1               -1                 1   \n",
       "5351                1                 1               -1                -1   \n",
       "4314               -1                 1               -1                 1   \n",
       "\n",
       "      Geography_Germany  Gender_Female  Gender_Male  \n",
       "8159                 -1              1           -1  \n",
       "6332                 -1              1           -1  \n",
       "8895                 -1              1           -1  \n",
       "5351                  1             -1            1  \n",
       "4314                 -1             -1            1  "
      ]
     },
     "execution_count": 26,
     "metadata": {},
     "output_type": "execute_result"
    }
   ],
   "source": [
    "# Categorical variables for one-hot encoding\n",
    "lst = ['Geography', 'Gender']\n",
    "\n",
    "# Initialize a list to store columns to remove later\n",
    "remove = list()\n",
    "\n",
    "# Iterate through categorical variables\n",
    "for i in lst:\n",
    "    # Check if the variable is of string or object data type\n",
    "    if (df_train[i].dtype == str or df_train[i].dtype == object):\n",
    "        # Iterate through unique values in the categorical column\n",
    "        for j in df_train[i].unique():\n",
    "            # Create a new binary column for each unique category\n",
    "            df_train[i + '_' + j] = np.where(df_train[i] == j, 1, -1)\n",
    "        # Add the original categorical column to the list of columns to remove\n",
    "        remove.append(i)\n",
    "\n",
    "# Drop the original categorical columns\n",
    "df_train = df_train.drop(remove, axis=1)\n",
    "\n",
    "# Display the modified DataFrame\n",
    "df_train.head()\n"
   ]
  },
  {
   "cell_type": "code",
   "execution_count": 27,
   "id": "d3155056",
   "metadata": {},
   "outputs": [
    {
     "data": {
      "text/html": [
       "<div>\n",
       "<style scoped>\n",
       "    .dataframe tbody tr th:only-of-type {\n",
       "        vertical-align: middle;\n",
       "    }\n",
       "\n",
       "    .dataframe tbody tr th {\n",
       "        vertical-align: top;\n",
       "    }\n",
       "\n",
       "    .dataframe thead th {\n",
       "        text-align: right;\n",
       "    }\n",
       "</style>\n",
       "<table border=\"1\" class=\"dataframe\">\n",
       "  <thead>\n",
       "    <tr style=\"text-align: right;\">\n",
       "      <th></th>\n",
       "      <th>Churn</th>\n",
       "      <th>CreditScore</th>\n",
       "      <th>Age</th>\n",
       "      <th>Tenure</th>\n",
       "      <th>Balance</th>\n",
       "      <th>Num Of Products</th>\n",
       "      <th>Estimated Salary</th>\n",
       "      <th>BalanceSalaryRatio</th>\n",
       "      <th>TenureByAge</th>\n",
       "      <th>CreditScoreGivenAge</th>\n",
       "      <th>Has Credit Card</th>\n",
       "      <th>Is Active Member</th>\n",
       "      <th>Geography_Spain</th>\n",
       "      <th>Geography_France</th>\n",
       "      <th>Geography_Germany</th>\n",
       "      <th>Gender_Female</th>\n",
       "      <th>Gender_Male</th>\n",
       "    </tr>\n",
       "  </thead>\n",
       "  <tbody>\n",
       "    <tr>\n",
       "      <th>8159</th>\n",
       "      <td>0</td>\n",
       "      <td>0.222</td>\n",
       "      <td>0.094595</td>\n",
       "      <td>0.6</td>\n",
       "      <td>0.000000</td>\n",
       "      <td>0.333333</td>\n",
       "      <td>0.076118</td>\n",
       "      <td>0.000000</td>\n",
       "      <td>0.432000</td>\n",
       "      <td>0.323157</td>\n",
       "      <td>1</td>\n",
       "      <td>1</td>\n",
       "      <td>1</td>\n",
       "      <td>-1</td>\n",
       "      <td>-1</td>\n",
       "      <td>1</td>\n",
       "      <td>-1</td>\n",
       "    </tr>\n",
       "    <tr>\n",
       "      <th>6332</th>\n",
       "      <td>0</td>\n",
       "      <td>0.538</td>\n",
       "      <td>0.229730</td>\n",
       "      <td>0.4</td>\n",
       "      <td>0.360358</td>\n",
       "      <td>0.000000</td>\n",
       "      <td>0.102376</td>\n",
       "      <td>0.003317</td>\n",
       "      <td>0.205714</td>\n",
       "      <td>0.305211</td>\n",
       "      <td>1</td>\n",
       "      <td>1</td>\n",
       "      <td>-1</td>\n",
       "      <td>1</td>\n",
       "      <td>-1</td>\n",
       "      <td>1</td>\n",
       "      <td>-1</td>\n",
       "    </tr>\n",
       "    <tr>\n",
       "      <th>8895</th>\n",
       "      <td>0</td>\n",
       "      <td>0.698</td>\n",
       "      <td>0.297297</td>\n",
       "      <td>0.8</td>\n",
       "      <td>0.486406</td>\n",
       "      <td>0.000000</td>\n",
       "      <td>0.510225</td>\n",
       "      <td>0.000901</td>\n",
       "      <td>0.360000</td>\n",
       "      <td>0.300198</td>\n",
       "      <td>1</td>\n",
       "      <td>-1</td>\n",
       "      <td>-1</td>\n",
       "      <td>1</td>\n",
       "      <td>-1</td>\n",
       "      <td>1</td>\n",
       "      <td>-1</td>\n",
       "    </tr>\n",
       "    <tr>\n",
       "      <th>5351</th>\n",
       "      <td>0</td>\n",
       "      <td>0.416</td>\n",
       "      <td>0.310811</td>\n",
       "      <td>0.2</td>\n",
       "      <td>0.495130</td>\n",
       "      <td>0.000000</td>\n",
       "      <td>0.555744</td>\n",
       "      <td>0.000843</td>\n",
       "      <td>0.087805</td>\n",
       "      <td>0.208238</td>\n",
       "      <td>1</td>\n",
       "      <td>1</td>\n",
       "      <td>-1</td>\n",
       "      <td>-1</td>\n",
       "      <td>1</td>\n",
       "      <td>-1</td>\n",
       "      <td>1</td>\n",
       "    </tr>\n",
       "    <tr>\n",
       "      <th>4314</th>\n",
       "      <td>0</td>\n",
       "      <td>0.576</td>\n",
       "      <td>0.216216</td>\n",
       "      <td>0.5</td>\n",
       "      <td>0.532094</td>\n",
       "      <td>0.000000</td>\n",
       "      <td>0.778145</td>\n",
       "      <td>0.000647</td>\n",
       "      <td>0.264706</td>\n",
       "      <td>0.330882</td>\n",
       "      <td>-1</td>\n",
       "      <td>1</td>\n",
       "      <td>-1</td>\n",
       "      <td>1</td>\n",
       "      <td>-1</td>\n",
       "      <td>-1</td>\n",
       "      <td>1</td>\n",
       "    </tr>\n",
       "  </tbody>\n",
       "</table>\n",
       "</div>"
      ],
      "text/plain": [
       "      Churn  CreditScore       Age  Tenure   Balance  Num Of Products  \\\n",
       "8159      0        0.222  0.094595     0.6  0.000000         0.333333   \n",
       "6332      0        0.538  0.229730     0.4  0.360358         0.000000   \n",
       "8895      0        0.698  0.297297     0.8  0.486406         0.000000   \n",
       "5351      0        0.416  0.310811     0.2  0.495130         0.000000   \n",
       "4314      0        0.576  0.216216     0.5  0.532094         0.000000   \n",
       "\n",
       "      Estimated Salary  BalanceSalaryRatio  TenureByAge  CreditScoreGivenAge  \\\n",
       "8159          0.076118            0.000000     0.432000             0.323157   \n",
       "6332          0.102376            0.003317     0.205714             0.305211   \n",
       "8895          0.510225            0.000901     0.360000             0.300198   \n",
       "5351          0.555744            0.000843     0.087805             0.208238   \n",
       "4314          0.778145            0.000647     0.264706             0.330882   \n",
       "\n",
       "      Has Credit Card  Is Active Member  Geography_Spain  Geography_France  \\\n",
       "8159                1                 1                1                -1   \n",
       "6332                1                 1               -1                 1   \n",
       "8895                1                -1               -1                 1   \n",
       "5351                1                 1               -1                -1   \n",
       "4314               -1                 1               -1                 1   \n",
       "\n",
       "      Geography_Germany  Gender_Female  Gender_Male  \n",
       "8159                 -1              1           -1  \n",
       "6332                 -1              1           -1  \n",
       "8895                 -1              1           -1  \n",
       "5351                  1             -1            1  \n",
       "4314                 -1             -1            1  "
      ]
     },
     "execution_count": 27,
     "metadata": {},
     "output_type": "execute_result"
    }
   ],
   "source": [
    "# Define the continuous variables for Min-Max scaling\n",
    "continuous_vars = ['CreditScore', 'Age', 'Tenure', 'Balance', 'Num Of Products', 'Estimated Salary', 'BalanceSalaryRatio', 'TenureByAge', 'CreditScoreGivenAge']\n",
    "\n",
    "# Calculate the minimum and maximum values for each continuous variable\n",
    "minVec = df_train[continuous_vars].min().copy()\n",
    "maxVec = df_train[continuous_vars].max().copy()\n",
    "\n",
    "# Perform Min-Max scaling on the continuous variables\n",
    "df_train[continuous_vars] = (df_train[continuous_vars] - minVec) / (maxVec - minVec)\n",
    "\n",
    "# Display the modified DataFrame\n",
    "df_train.head()\n"
   ]
  },
  {
   "cell_type": "code",
   "execution_count": 28,
   "id": "850ead37",
   "metadata": {},
   "outputs": [],
   "source": [
    "def DfPrepPipeline(df_predict, df_train_Cols, minVec, maxVec):\n",
    "    # Add new features\n",
    "    df_predict['BalanceSalaryRatio'] = df_predict.Balance / df_predict.EstimatedSalary\n",
    "    df_predict['TenureByAge'] = df_predict.Tenure / (df_predict.Age - 18)\n",
    "    df_predict['CreditScoreGivenAge'] = df_predict.CreditScore / (df_predict.Age - 18)\n",
    "    \n",
    "    # Reorder the columns\n",
    "    continuous_vars = ['CreditScore', 'Age', 'Tenure', 'Balance', 'NumOfProducts', 'EstimatedSalary', 'BalanceSalaryRatio',\n",
    "                       'TenureByAge', 'CreditScoreGivenAge']\n",
    "    cat_vars = ['HasCrCard', 'IsActiveMember', 'Geography', 'Gender']\n",
    "    df_predict = df_predict[['Exited'] + continuous_vars + cat_vars]\n",
    "    \n",
    "    # Change the 0 in categorical variables to -1\n",
    "    df_predict.loc[df_predict.HasCrCard == 0, 'HasCrCard'] = -1\n",
    "    df_predict.loc[df_predict.IsActiveMember == 0, 'IsActiveMember'] = -1\n",
    "    \n",
    "    # One-hot encode the categorical variables\n",
    "    lst = [\"Geography\", \"Gender\"]\n",
    "    remove = list()\n",
    "    for i in lst:\n",
    "        for j in df_predict[i].unique():\n",
    "            df_predict[i + '_' + j] = np.where(df_predict[i] == j, 1, -1)\n",
    "        remove.append(i)\n",
    "    df_predict = df_predict.drop(remove, axis=1)\n",
    "    \n",
    "    # Ensure that all one-hot encoded variables that appear in the train data appear in the subsequent data\n",
    "    L = list(set(df_train_Cols) - set(df_predict.columns))\n",
    "    for l in L:\n",
    "        df_predict[str(l)] = -1\n",
    "\n",
    "    # Min-Max scaling continuous variables based on min and max from the train data\n",
    "    df_predict[continuous_vars] = (df_predict[continuous_vars] - minVec) / (maxVec - minVec)\n",
    "    \n",
    "    # Ensure that the variables are ordered in the same way as they were ordered in the train set\n",
    "    df_predict = df_predict[df_train_Cols]\n",
    "    \n",
    "    return df_predict\n"
   ]
  },
  {
   "cell_type": "code",
   "execution_count": 29,
   "id": "40b9c9a3",
   "metadata": {},
   "outputs": [],
   "source": [
    "#6. Model fitting and selectio6. Model fitting and selectio"
   ]
  },
  {
   "cell_type": "code",
   "execution_count": 30,
   "id": "127d0385",
   "metadata": {},
   "outputs": [],
   "source": [
    "# Support functions\n",
    "from sklearn.preprocessing import PolynomialFeatures\n",
    "from sklearn.model_selection import cross_val_score\n",
    "from sklearn.model_selection import GridSearchCV\n",
    "from scipy.stats import uniform\n",
    "\n",
    "# Fit models\n",
    "from sklearn.linear_model import LogisticRegression\n",
    "from sklearn.svm import SVC\n",
    "from sklearn.ensemble import RandomForestClassifier\n",
    "from xgboost import XGBClassifier\n",
    "\n",
    "# Scoring functions\n",
    "from sklearn.metrics import accuracy_score\n",
    "from sklearn.metrics import classification_report\n",
    "from sklearn.metrics import roc_auc_score\n",
    "from sklearn.metrics import roc_curve"
   ]
  },
  {
   "cell_type": "code",
   "execution_count": 35,
   "id": "3588b315",
   "metadata": {},
   "outputs": [],
   "source": [
    "# Function to give best model score and parameters\n",
    "def best_model(model):\n",
    "    print(model.best_score_)    \n",
    "    print(model.best_params_)\n",
    "    print(model.best_estimator_)\n",
    "def get_auc_scores(y_actual, method,method2):\n",
    "    auc_score = roc_auc_score(y_actual, method); \n",
    "    fpr_df, tpr_df, _ = roc_curve(y_actual, method2); \n",
    "    return (auc_score, fpr_df, tpr_df)"
   ]
  },
  {
   "cell_type": "code",
   "execution_count": 37,
   "id": "0db58dda",
   "metadata": {},
   "outputs": [
    {
     "name": "stdout",
     "output_type": "stream",
     "text": [
      "Best Parameters:  {'C': 100, 'fit_intercept': True, 'intercept_scaling': 1, 'max_iter': 250, 'penalty': 'l2', 'tol': 1e-05}\n",
      "Best Score:  0.8149999999999998\n"
     ]
    }
   ],
   "source": [
    "# Define the parameter grid for hyperparameter tuning\n",
    "param_grid = {\n",
    "    'C': [0.1, 0.5, 1, 10, 50, 100],\n",
    "    'max_iter': [250],\n",
    "    'fit_intercept': [True],\n",
    "    'intercept_scaling': [1],\n",
    "    'penalty': ['l2'],\n",
    "    'tol': [0.00001, 0.0001, 0.000001]\n",
    "}\n",
    "\n",
    "# Create a GridSearchCV object with logistic regression model and the parameter grid\n",
    "log_primal_Grid = GridSearchCV(LogisticRegression(solver='lbfgs'), param_grid, cv=10, refit=True, verbose=0)\n",
    "\n",
    "# Fit the model to your training data\n",
    "log_primal_Grid.fit(df_train.loc[:, df_train.columns != 'Churn'], df_train.Churn)\n",
    "\n",
    "# Function to print the best model's parameters and score\n",
    "def best_model(grid):\n",
    "    print(\"Best Parameters: \", grid.best_params_)\n",
    "    print(\"Best Score: \", grid.best_score_)\n",
    "\n",
    "# Call the function to print the best model's parameters and score\n",
    "best_model(log_primal_Grid)\n"
   ]
  },
  {
   "cell_type": "code",
   "execution_count": 38,
   "id": "d92c35bd",
   "metadata": {},
   "outputs": [
    {
     "name": "stdout",
     "output_type": "stream",
     "text": [
      "Best Parameters:  {'C': 50, 'fit_intercept': True, 'intercept_scaling': 1, 'max_iter': 300, 'penalty': 'l2', 'tol': 0.0001}\n",
      "Best Score:  0.8553750000000001\n"
     ]
    }
   ],
   "source": [
    "\n",
    "\n",
    "# Define the parameter grid for hyperparameter tuning\n",
    "param_grid = {\n",
    "    'C': [0.1, 10, 50],\n",
    "    'max_iter': [300, 500],\n",
    "    'fit_intercept': [True],\n",
    "    'intercept_scaling': [1],\n",
    "    'penalty': ['l2'],\n",
    "    'tol': [0.0001, 0.000001]\n",
    "}\n",
    "\n",
    "# Create a PolynomialFeatures object with degree 2\n",
    "poly2 = PolynomialFeatures(degree=2)\n",
    "df_train_pol2 = poly2.fit_transform(df_train.loc[:, df_train.columns != 'Churn'])\n",
    "\n",
    "# Create a GridSearchCV object with logistic regression model and the parameter grid\n",
    "log_pol2_Grid = GridSearchCV(LogisticRegression(solver='liblinear'), param_grid, cv=5, refit=True, verbose=0)\n",
    "\n",
    "# Fit the model to your polynomial transformed training data\n",
    "log_pol2_Grid.fit(df_train_pol2, df_train.Churn)\n",
    "\n",
    "# Function to print the best model's parameters and score\n",
    "def best_model(grid):\n",
    "    print(\"Best Parameters: \", grid.best_params_)\n",
    "    print(\"Best Score: \", grid.best_score_)\n",
    "\n",
    "# Call the function to print the best model's parameters and score\n",
    "best_model(log_pol2_Grid)\n"
   ]
  },
  {
   "cell_type": "code",
   "execution_count": 39,
   "id": "79a61435",
   "metadata": {},
   "outputs": [
    {
     "name": "stdout",
     "output_type": "stream",
     "text": [
      "Best Parameters:  {'C': 100, 'gamma': 0.1, 'kernel': 'rbf', 'probability': True}\n",
      "Best Score:  0.8518747609662071\n"
     ]
    }
   ],
   "source": [
    "# Define the parameter grid for hyperparameter tuning\n",
    "param_grid = {\n",
    "    'C': [0.5, 100, 150],\n",
    "    'gamma': [0.1, 0.01, 0.001],\n",
    "    'probability': [True],\n",
    "    'kernel': ['rbf']\n",
    "}\n",
    "\n",
    "# Create a GridSearchCV object with Support Vector Machine (SVM) classifier and the parameter grid\n",
    "SVM_grid = GridSearchCV(SVC(), param_grid, cv=3, refit=True, verbose=0)\n",
    "\n",
    "# Fit the SVM model to your training data\n",
    "SVM_grid.fit(df_train.loc[:, df_train.columns != 'Churn'], df_train.Churn)\n",
    "\n",
    "# Function to print the best model's parameters and score\n",
    "def best_model(grid):\n",
    "    print(\"Best Parameters: \", grid.best_params_)\n",
    "    print(\"Best Score: \", grid.best_score_)\n",
    "\n",
    "# Call the function to print the best model's parameters and score\n",
    "best_model(SVM_grid)\n"
   ]
  },
  {
   "cell_type": "code",
   "execution_count": 40,
   "id": "6912f88b",
   "metadata": {},
   "outputs": [
    {
     "name": "stdout",
     "output_type": "stream",
     "text": [
      "Best Parameters:  {'C': 100, 'degree': 2, 'gamma': 0.1, 'kernel': 'poly', 'probability': True}\n",
      "Best Score:  0.8544999485716948\n"
     ]
    }
   ],
   "source": [
    "# Define the parameter grid for hyperparameter tuning\n",
    "param_grid = {\n",
    "    'C': [0.5, 1, 10, 50, 100],\n",
    "    'gamma': [0.1, 0.01, 0.001],\n",
    "    'probability': [True],\n",
    "    'kernel': ['poly'],\n",
    "    'degree': [2, 3]\n",
    "}\n",
    "\n",
    "# Create a GridSearchCV object with Support Vector Machine (SVM) classifier and the parameter grid\n",
    "SVM_grid = GridSearchCV(SVC(), param_grid, cv=3, refit=True, verbose=0)\n",
    "\n",
    "# Fit the SVM model to your training data\n",
    "SVM_grid.fit(df_train.loc[:, df_train.columns != 'Churn'], df_train.Churn)\n",
    "\n",
    "# Function to print the best model's parameters and score\n",
    "def best_model(grid):\n",
    "    print(\"Best Parameters: \", grid.best_params_)\n",
    "    print(\"Best Score: \", grid.best_score_)\n",
    "\n",
    "# Call the function to print the best model's parameters and score\n",
    "best_model(SVM_grid)\n"
   ]
  },
  {
   "cell_type": "code",
   "execution_count": 41,
   "id": "62dd6219",
   "metadata": {},
   "outputs": [
    {
     "name": "stdout",
     "output_type": "stream",
     "text": [
      "Best Parameters:  {'max_depth': 8, 'max_features': 9, 'min_samples_split': 7, 'n_estimators': 100}\n",
      "Best Score:  0.8637499999999999\n"
     ]
    }
   ],
   "source": [
    "\n",
    "# Define the parameter grid for hyperparameter tuning\n",
    "param_grid = {\n",
    "    'max_depth': [3, 5, 6, 7, 8],\n",
    "    'max_features': [2, 4, 6, 7, 8, 9],\n",
    "    'n_estimators': [50, 100],\n",
    "    'min_samples_split': [3, 5, 6, 7]\n",
    "}\n",
    "\n",
    "# Create a GridSearchCV object with Random Forest classifier and the parameter grid\n",
    "RanFor_grid = GridSearchCV(RandomForestClassifier(), param_grid, cv=5, refit=True, verbose=0)\n",
    "\n",
    "# Fit the Random Forest model to your training data\n",
    "RanFor_grid.fit(df_train.loc[:, df_train.columns != 'Churn'], df_train.Churn)\n",
    "\n",
    "# Function to print the best model's parameters and score\n",
    "def best_model(grid):\n",
    "    print(\"Best Parameters: \", grid.best_params_)\n",
    "    print(\"Best Score: \", grid.best_score_)\n",
    "\n",
    "# Call the function to print the best model's parameters and score\n",
    "best_model(RanFor_grid)\n"
   ]
  },
  {
   "cell_type": "code",
   "execution_count": 42,
   "id": "c71905fa",
   "metadata": {},
   "outputs": [
    {
     "name": "stdout",
     "output_type": "stream",
     "text": [
      "Best Parameters:  {'gamma': 0.001, 'learning_rate': 0.2, 'max_depth': 7, 'min_child_weight': 1, 'n_estimators': 5}\n",
      "Best Score:  0.8629999999999999\n"
     ]
    }
   ],
   "source": [
    "# Define the parameter grid for hyperparameter tuning\n",
    "param_grid = {\n",
    "    'max_depth': [5, 6, 7, 8],\n",
    "    'gamma': [0.01, 0.001, 0.001],\n",
    "    'min_child_weight': [1, 5, 10],\n",
    "    'learning_rate': [0.05, 0.1, 0.2, 0.3],\n",
    "    'n_estimators': [5, 10, 20, 100]\n",
    "}\n",
    "\n",
    "# Create a GridSearchCV object with XGBoost classifier and the parameter grid\n",
    "xgb_grid = GridSearchCV(XGBClassifier(), param_grid, cv=5, refit=True, verbose=0)\n",
    "\n",
    "# Fit the XGBoost model to your training data\n",
    "xgb_grid.fit(df_train.loc[:, df_train.columns != 'Churn'], df_train.Churn)\n",
    "\n",
    "# Function to print the best model's parameters and score\n",
    "def best_model(grid):\n",
    "    print(\"Best Parameters: \", grid.best_params_)\n",
    "    print(\"Best Score: \", grid.best_score_)\n",
    "\n",
    "# Call the function to print the best model's parameters and score\n",
    "best_model(xgb_grid)\n"
   ]
  },
  {
   "cell_type": "code",
   "execution_count": 43,
   "id": "248efcf6",
   "metadata": {},
   "outputs": [],
   "source": [
    "#fit best models"
   ]
  },
  {
   "cell_type": "code",
   "execution_count": 44,
   "id": "ed3994d5",
   "metadata": {},
   "outputs": [
    {
     "ename": "ValueError",
     "evalue": "multi_class should be 'multinomial', 'ovr' or 'auto'. Got warn.",
     "output_type": "error",
     "traceback": [
      "\u001b[1;31m---------------------------------------------------------------------------\u001b[0m",
      "\u001b[1;31mValueError\u001b[0m                                Traceback (most recent call last)",
      "\u001b[1;32m~\\AppData\\Local\\Temp\\ipykernel_11164\\636957694.py\u001b[0m in \u001b[0;36m<module>\u001b[1;34m\u001b[0m\n\u001b[0;32m      3\u001b[0m \u001b[1;33m\u001b[0m\u001b[0m\n\u001b[0;32m      4\u001b[0m \u001b[1;31m# Fit the logistic regression model to your training data\u001b[0m\u001b[1;33m\u001b[0m\u001b[1;33m\u001b[0m\u001b[0m\n\u001b[1;32m----> 5\u001b[1;33m \u001b[0mlog_primal\u001b[0m\u001b[1;33m.\u001b[0m\u001b[0mfit\u001b[0m\u001b[1;33m(\u001b[0m\u001b[0mdf_train\u001b[0m\u001b[1;33m.\u001b[0m\u001b[0mloc\u001b[0m\u001b[1;33m[\u001b[0m\u001b[1;33m:\u001b[0m\u001b[1;33m,\u001b[0m \u001b[0mdf_train\u001b[0m\u001b[1;33m.\u001b[0m\u001b[0mcolumns\u001b[0m \u001b[1;33m!=\u001b[0m \u001b[1;34m'Churn'\u001b[0m\u001b[1;33m]\u001b[0m\u001b[1;33m,\u001b[0m \u001b[0mdf_train\u001b[0m\u001b[1;33m.\u001b[0m\u001b[0mChurn\u001b[0m\u001b[1;33m)\u001b[0m\u001b[1;33m\u001b[0m\u001b[1;33m\u001b[0m\u001b[0m\n\u001b[0m",
      "\u001b[1;32m~\\anaconda3\\lib\\site-packages\\sklearn\\linear_model\\_logistic.py\u001b[0m in \u001b[0;36mfit\u001b[1;34m(self, X, y, sample_weight)\u001b[0m\n\u001b[0;32m   1517\u001b[0m         \u001b[0mself\u001b[0m\u001b[1;33m.\u001b[0m\u001b[0mclasses_\u001b[0m \u001b[1;33m=\u001b[0m \u001b[0mnp\u001b[0m\u001b[1;33m.\u001b[0m\u001b[0munique\u001b[0m\u001b[1;33m(\u001b[0m\u001b[0my\u001b[0m\u001b[1;33m)\u001b[0m\u001b[1;33m\u001b[0m\u001b[1;33m\u001b[0m\u001b[0m\n\u001b[0;32m   1518\u001b[0m \u001b[1;33m\u001b[0m\u001b[0m\n\u001b[1;32m-> 1519\u001b[1;33m         \u001b[0mmulti_class\u001b[0m \u001b[1;33m=\u001b[0m \u001b[0m_check_multi_class\u001b[0m\u001b[1;33m(\u001b[0m\u001b[0mself\u001b[0m\u001b[1;33m.\u001b[0m\u001b[0mmulti_class\u001b[0m\u001b[1;33m,\u001b[0m \u001b[0msolver\u001b[0m\u001b[1;33m,\u001b[0m \u001b[0mlen\u001b[0m\u001b[1;33m(\u001b[0m\u001b[0mself\u001b[0m\u001b[1;33m.\u001b[0m\u001b[0mclasses_\u001b[0m\u001b[1;33m)\u001b[0m\u001b[1;33m)\u001b[0m\u001b[1;33m\u001b[0m\u001b[1;33m\u001b[0m\u001b[0m\n\u001b[0m\u001b[0;32m   1520\u001b[0m \u001b[1;33m\u001b[0m\u001b[0m\n\u001b[0;32m   1521\u001b[0m         \u001b[1;32mif\u001b[0m \u001b[0msolver\u001b[0m \u001b[1;33m==\u001b[0m \u001b[1;34m\"liblinear\"\u001b[0m\u001b[1;33m:\u001b[0m\u001b[1;33m\u001b[0m\u001b[1;33m\u001b[0m\u001b[0m\n",
      "\u001b[1;32m~\\anaconda3\\lib\\site-packages\\sklearn\\linear_model\\_logistic.py\u001b[0m in \u001b[0;36m_check_multi_class\u001b[1;34m(multi_class, solver, n_classes)\u001b[0m\n\u001b[0;32m    476\u001b[0m             \u001b[0mmulti_class\u001b[0m \u001b[1;33m=\u001b[0m \u001b[1;34m\"ovr\"\u001b[0m\u001b[1;33m\u001b[0m\u001b[1;33m\u001b[0m\u001b[0m\n\u001b[0;32m    477\u001b[0m     \u001b[1;32mif\u001b[0m \u001b[0mmulti_class\u001b[0m \u001b[1;32mnot\u001b[0m \u001b[1;32min\u001b[0m \u001b[1;33m(\u001b[0m\u001b[1;34m\"multinomial\"\u001b[0m\u001b[1;33m,\u001b[0m \u001b[1;34m\"ovr\"\u001b[0m\u001b[1;33m)\u001b[0m\u001b[1;33m:\u001b[0m\u001b[1;33m\u001b[0m\u001b[1;33m\u001b[0m\u001b[0m\n\u001b[1;32m--> 478\u001b[1;33m         raise ValueError(\n\u001b[0m\u001b[0;32m    479\u001b[0m             \u001b[1;34m\"multi_class should be 'multinomial', 'ovr' or 'auto'. Got %s.\"\u001b[0m\u001b[1;33m\u001b[0m\u001b[1;33m\u001b[0m\u001b[0m\n\u001b[0;32m    480\u001b[0m             \u001b[1;33m%\u001b[0m \u001b[0mmulti_class\u001b[0m\u001b[1;33m\u001b[0m\u001b[1;33m\u001b[0m\u001b[0m\n",
      "\u001b[1;31mValueError\u001b[0m: multi_class should be 'multinomial', 'ovr' or 'auto'. Got warn."
     ]
    }
   ],
   "source": [
    "# Instantiate the logistic regression model with the desired parameters\n",
    "log_primal = LogisticRegression(C=100, class_weight=None, dual=False, fit_intercept=True, intercept_scaling=1, max_iter=250, multi_class='warn', n_jobs=None, penalty='l2', random_state=None, solver='lbfgs', tol=1e-05, verbose=0, warm_start=False)\n",
    "\n",
    "# Fit the logistic regression model to your training data\n",
    "log_primal.fit(df_train.loc[:, df_train.columns != 'Churn'], df_train.Churn)\n"
   ]
  },
  {
   "cell_type": "code",
   "execution_count": null,
   "id": "75bb66ab",
   "metadata": {},
   "outputs": [],
   "source": [
    "# Create a PolynomialFeatures object with degree 2\n",
    "poly2 = PolynomialFeatures(degree=2)\n",
    "df_train_pol2 = poly2.fit_transform(df_train.loc[:, df_train.columns != 'Churn'])\n",
    "\n",
    "# Instantiate the logistic regression model with the desired parameters\n",
    "log_pol2 = LogisticRegression(C=10, class_weight=None, dual=False, fit_intercept=True, intercept_scaling=1, max_iter=300, multi_class='warn', n_jobs=None, penalty='l2', random_state=None, solver='liblinear', tol=0.0001, verbose=0, warm_start=False)\n",
    "\n",
    "# Fit the logistic regression model to your polynomial transformed training data\n",
    "log_pol2.fit(df_train_pol2, df_train.Churn)"
   ]
  },
  {
   "cell_type": "code",
   "execution_count": null,
   "id": "68b3882a",
   "metadata": {},
   "outputs": [],
   "source": [
    "# Instantiate the SVM model with the desired parameters\n",
    "SVM_RBF = SVC(C=100, cache_size=200, class_weight=None, coef0=0.0, decision_function_shape='ovr', degree=3, gamma=0.1, kernel='rbf', max_iter=-1, probability=True, random_state=None, shrinking=True, tol=0.001, verbose=False)\n",
    "\n",
    "# Fit the SVM model to your training data\n",
    "SVM_RBF.fit(df_train.loc[:, df_train.columns != 'Churn'], df_train.Churn)"
   ]
  },
  {
   "cell_type": "code",
   "execution_count": null,
   "id": "921422c8",
   "metadata": {},
   "outputs": [],
   "source": [
    "# Instantiate the SVM model with the desired parameters\n",
    "SVM_POL = SVC(C=100, cache_size=200, class_weight=None, coef0=0.0, decision_function_shape='ovr', degree=2, gamma=0.1, kernel='poly', max_iter=-1, probability=True, random_state=None, shrinking=True, tol=0.001, verbose=False)\n",
    "\n",
    "# Fit the SVM model to your training data\n",
    "SVM_POL.fit(df_train.loc[:, df_train.columns != 'Churn'], df_train.Churn)\n"
   ]
  },
  {
   "cell_type": "code",
   "execution_count": null,
   "id": "5f5a81fc",
   "metadata": {},
   "outputs": [],
   "source": [
    "# Instantiate the Random Forest classifier with the desired parameters\n",
    "RF = RandomForestClassifier(bootstrap=True, class_weight=None, criterion='gini', max_depth=8, max_features=6, max_leaf_nodes=None, min_impurity_decrease=0.0, min_impurity_split=None, min_samples_leaf=1, min_samples_split=3, min_weight_fraction_leaf=0.0, n_estimators=50, n_jobs=None, oob_score=False, random_state=None, verbose=0, warm_start=False)\n",
    "\n",
    "# Fit the Random Forest model to your training data\n",
    "RF.fit(df_train.loc[:, df_train.columns != 'Churn'], df_train.Churn)\n"
   ]
  },
  {
   "cell_type": "code",
   "execution_count": null,
   "id": "8f0c795b",
   "metadata": {},
   "outputs": [],
   "source": [
    "# Instantiate the XGBoost classifier with the desired parameters\n",
    "XGB = XGBClassifier(base_score=0.5, booster='gbtree', colsample_bylevel=1, colsample_bytree=1, gamma=0.01, learning_rate=0.1, max_delta_step=0, max_depth=7, min_child_weight=5, missing=None, n_estimators=20, n_jobs=1, nthread=None, objective='binary:logistic', random_state=0, reg_alpha=0, reg_lambda=1, scale_pos_weight=1, seed=None, silent=True, subsample=1)\n",
    "\n",
    "# Fit the XGBoost model to your training data\n",
    "XGB.fit(df_train.loc[:, df_train.columns != 'Churn'], df_train.Churn)\n"
   ]
  },
  {
   "cell_type": "code",
   "execution_count": 45,
   "id": "8366f3b1",
   "metadata": {},
   "outputs": [],
   "source": [
    "#Review best model fit accuracy : Keen interest is on the performance in predicting 1's (Customers who churn)"
   ]
  },
  {
   "cell_type": "code",
   "execution_count": 50,
   "id": "5dc1c895",
   "metadata": {},
   "outputs": [
    {
     "data": {
      "text/plain": [
       "LogisticRegression(C=100, max_iter=250, multi_class='ovr', tol=1e-05)"
      ]
     },
     "execution_count": 50,
     "metadata": {},
     "output_type": "execute_result"
    }
   ],
   "source": [
    "log_primal = LogisticRegression(C=100, class_weight=None, dual=False, fit_intercept=True, intercept_scaling=1, max_iter=250, multi_class='ovr', n_jobs=None, penalty='l2', random_state=None, solver='lbfgs', tol=1e-05, verbose=0, warm_start=False)\n",
    "log_primal.fit(df_train.loc[:, df_train.columns != 'Churn'], df_train.Churn)\n"
   ]
  },
  {
   "cell_type": "code",
   "execution_count": 55,
   "id": "81830d7d",
   "metadata": {},
   "outputs": [
    {
     "name": "stdout",
     "output_type": "stream",
     "text": [
      "              precision    recall  f1-score   support\n",
      "\n",
      "           0       0.87      0.97      0.92      6353\n",
      "           1       0.77      0.46      0.57      1647\n",
      "\n",
      "    accuracy                           0.86      8000\n",
      "   macro avg       0.82      0.71      0.75      8000\n",
      "weighted avg       0.85      0.86      0.85      8000\n",
      "\n"
     ]
    }
   ],
   "source": [
    "# Initialize and fit the logistic regression model with polynomial features (log_pol2)\n",
    "log_pol2 = LogisticRegression(\n",
    "    C=10,\n",
    "    class_weight=None,\n",
    "    dual=False,\n",
    "    fit_intercept=True,\n",
    "    intercept_scaling=1,\n",
    "    max_iter=300,\n",
    "    multi_class='ovr',  # Set 'multi_class' to 'ovr' for binary classification\n",
    "    n_jobs=None,\n",
    "    penalty='l2',\n",
    "    random_state=None,\n",
    "    solver='liblinear',\n",
    "    tol=0.0001,\n",
    "    verbose=0,\n",
    "    warm_start=False\n",
    ")\n",
    "log_pol2.fit(df_train_pol2, df_train.Churn)\n",
    "\n",
    "# Predict Churn on the training data using the log_pol2 model\n",
    "y_pred_log_pol2 = log_pol2.predict(df_train_pol2)\n",
    "\n",
    "# Print the classification report\n",
    "print(classification_report(df_train.Churn, y_pred_log_pol2))\n"
   ]
  },
  {
   "cell_type": "code",
   "execution_count": 58,
   "id": "0c06a2e3",
   "metadata": {},
   "outputs": [
    {
     "name": "stdout",
     "output_type": "stream",
     "text": [
      "              precision    recall  f1-score   support\n",
      "\n",
      "           0       0.83      0.97      0.89      6353\n",
      "           1       0.64      0.24      0.35      1647\n",
      "\n",
      "    accuracy                           0.82      8000\n",
      "   macro avg       0.73      0.60      0.62      8000\n",
      "weighted avg       0.79      0.82      0.78      8000\n",
      "\n"
     ]
    }
   ],
   "source": [
    "# Predict Churn on the training data using the log_primal model\n",
    "y_pred_log_primal = log_primal.predict(df_train.loc[:, df_train.columns != 'Churn'])\n",
    "\n",
    "# Print the classification report\n",
    "print(classification_report(df_train.Churn, y_pred_log_primal))\n"
   ]
  },
  {
   "cell_type": "code",
   "execution_count": 61,
   "id": "98e948f3",
   "metadata": {},
   "outputs": [
    {
     "name": "stdout",
     "output_type": "stream",
     "text": [
      "              precision    recall  f1-score   support\n",
      "\n",
      "           0       0.83      0.97      0.89      6353\n",
      "           1       0.64      0.24      0.35      1647\n",
      "\n",
      "    accuracy                           0.82      8000\n",
      "   macro avg       0.73      0.60      0.62      8000\n",
      "weighted avg       0.79      0.82      0.78      8000\n",
      "\n"
     ]
    }
   ],
   "source": [
    "\n",
    "print(classification_report(df_train.Churn, log_primal.predict(df_train.loc[:, df_train.columns != 'Churn'])))\n"
   ]
  },
  {
   "cell_type": "code",
   "execution_count": 64,
   "id": "120d0a0b",
   "metadata": {},
   "outputs": [
    {
     "name": "stdout",
     "output_type": "stream",
     "text": [
      "              precision    recall  f1-score   support\n",
      "\n",
      "           0       0.90      0.99      0.94      6353\n",
      "           1       0.94      0.59      0.72      1647\n",
      "\n",
      "    accuracy                           0.91      8000\n",
      "   macro avg       0.92      0.79      0.83      8000\n",
      "weighted avg       0.91      0.91      0.90      8000\n",
      "\n"
     ]
    }
   ],
   "source": [
    "# Define and train the Random Forest classifier (replace with your data and parameters)\n",
    "RF = RandomForestClassifier(n_estimators=100, max_depth=10, random_state=0)\n",
    "RF.fit(df_train.loc[:, df_train.columns != 'Churn'], df_train.Churn)\n",
    "\n",
    "# Predict on the training data\n",
    "y_pred_RF = RF.predict(df_train.loc[:, df_train.columns != 'Churn'])\n",
    "\n",
    "# Print the classification report\n",
    "print(classification_report(df_train.Churn, y_pred_RF))\n"
   ]
  },
  {
   "cell_type": "code",
   "execution_count": 65,
   "id": "4bb31d20",
   "metadata": {},
   "outputs": [
    {
     "ename": "NameError",
     "evalue": "name 'XGB' is not defined",
     "output_type": "error",
     "traceback": [
      "\u001b[1;31m---------------------------------------------------------------------------\u001b[0m",
      "\u001b[1;31mNameError\u001b[0m                                 Traceback (most recent call last)",
      "\u001b[1;32m~\\AppData\\Local\\Temp\\ipykernel_11164\\15763691.py\u001b[0m in \u001b[0;36m<module>\u001b[1;34m\u001b[0m\n\u001b[0;32m      1\u001b[0m \u001b[1;31m# Predict Churn on the training data using the XGBoost model\u001b[0m\u001b[1;33m\u001b[0m\u001b[1;33m\u001b[0m\u001b[0m\n\u001b[1;32m----> 2\u001b[1;33m \u001b[0my_pred_xgb\u001b[0m \u001b[1;33m=\u001b[0m \u001b[0mXGB\u001b[0m\u001b[1;33m.\u001b[0m\u001b[0mpredict\u001b[0m\u001b[1;33m(\u001b[0m\u001b[0mdf_train\u001b[0m\u001b[1;33m.\u001b[0m\u001b[0mloc\u001b[0m\u001b[1;33m[\u001b[0m\u001b[1;33m:\u001b[0m\u001b[1;33m,\u001b[0m \u001b[0mdf_train\u001b[0m\u001b[1;33m.\u001b[0m\u001b[0mcolumns\u001b[0m \u001b[1;33m!=\u001b[0m \u001b[1;34m'Churn'\u001b[0m\u001b[1;33m]\u001b[0m\u001b[1;33m)\u001b[0m\u001b[1;33m\u001b[0m\u001b[1;33m\u001b[0m\u001b[0m\n\u001b[0m\u001b[0;32m      3\u001b[0m \u001b[1;33m\u001b[0m\u001b[0m\n\u001b[0;32m      4\u001b[0m \u001b[1;31m# Print the classification report\u001b[0m\u001b[1;33m\u001b[0m\u001b[1;33m\u001b[0m\u001b[0m\n\u001b[0;32m      5\u001b[0m \u001b[0mprint\u001b[0m\u001b[1;33m(\u001b[0m\u001b[0mclassification_report\u001b[0m\u001b[1;33m(\u001b[0m\u001b[0mdf_train\u001b[0m\u001b[1;33m.\u001b[0m\u001b[0mChurn\u001b[0m\u001b[1;33m,\u001b[0m \u001b[0my_pred_xgb\u001b[0m\u001b[1;33m)\u001b[0m\u001b[1;33m)\u001b[0m\u001b[1;33m\u001b[0m\u001b[1;33m\u001b[0m\u001b[0m\n",
      "\u001b[1;31mNameError\u001b[0m: name 'XGB' is not defined"
     ]
    }
   ],
   "source": [
    "# Predict Churn on the training data using the XGBoost model\n",
    "y_pred_xgb = XGB.predict(df_train.loc[:, df_train.columns != 'Churn'])\n",
    "\n",
    "# Print the classification report\n",
    "print(classification_report(df_train.Churn, y_pred_xgb))\n"
   ]
  },
  {
   "cell_type": "code",
   "execution_count": 66,
   "id": "428572d8",
   "metadata": {},
   "outputs": [
    {
     "data": {
      "text/plain": [
       "XGBClassifier(base_score=None, booster=None, callbacks=None,\n",
       "              colsample_bylevel=None, colsample_bynode=None,\n",
       "              colsample_bytree=None, early_stopping_rounds=None,\n",
       "              enable_categorical=False, eval_metric=None, feature_types=None,\n",
       "              gamma=0.01, gpu_id=None, grow_policy=None, importance_type=None,\n",
       "              interaction_constraints=None, learning_rate=0.1, max_bin=None,\n",
       "              max_cat_threshold=None, max_cat_to_onehot=None,\n",
       "              max_delta_step=None, max_depth=7, max_leaves=None,\n",
       "              min_child_weight=5, missing=nan, monotone_constraints=None,\n",
       "              n_estimators=20, n_jobs=None, num_parallel_tree=None,\n",
       "              predictor=None, random_state=None, ...)"
      ]
     },
     "execution_count": 66,
     "metadata": {},
     "output_type": "execute_result"
    }
   ],
   "source": [
    "# Define and train your XGBoost classifier (replace with your actual parameters)\n",
    "XGB = XGBClassifier(\n",
    "    max_depth=7,\n",
    "    gamma=0.01,\n",
    "    min_child_weight=5,\n",
    "    learning_rate=0.1,\n",
    "    n_estimators=20,\n",
    "    # other parameters...\n",
    ")\n",
    "\n",
    "# Fit the XGBoost model to your training data\n",
    "XGB.fit(df_train.loc[:, df_train.columns != 'Churn'], df_train.Churn)\n"
   ]
  },
  {
   "cell_type": "code",
   "execution_count": 67,
   "id": "726385c3",
   "metadata": {},
   "outputs": [
    {
     "name": "stdout",
     "output_type": "stream",
     "text": [
      "              precision    recall  f1-score   support\n",
      "\n",
      "           0       0.89      0.97      0.93      6353\n",
      "           1       0.83      0.53      0.64      1647\n",
      "\n",
      "    accuracy                           0.88      8000\n",
      "   macro avg       0.86      0.75      0.79      8000\n",
      "weighted avg       0.88      0.88      0.87      8000\n",
      "\n"
     ]
    }
   ],
   "source": [
    "# Predict Churn on the training data using the XGBoost model\n",
    "y_pred_xgb = XGB.predict(df_train.loc[:, df_train.columns != 'Churn'])\n",
    "\n",
    "# Print the classification report\n",
    "print(classification_report(df_train.Churn, y_pred_xgb))"
   ]
  },
  {
   "cell_type": "code",
   "execution_count": 68,
   "id": "535e5f2f",
   "metadata": {},
   "outputs": [],
   "source": [
    "from sklearn.metrics import roc_auc_score, roc_curve\n",
    "\n",
    "def get_auc_scores(true_labels, predicted_labels, predicted_probabilities):\n",
    "    auc = roc_auc_score(true_labels, predicted_probabilities)\n",
    "    fpr, tpr, _ = roc_curve(true_labels, predicted_probabilities)\n",
    "    return auc, fpr, tpr\n"
   ]
  },
  {
   "cell_type": "code",
   "execution_count": 70,
   "id": "d26502ef",
   "metadata": {},
   "outputs": [],
   "source": [
    "# Assuming 'Churn' is the column representing the true labels in your DataFrame\n",
    "y = df_train['Churn']\n"
   ]
  },
  {
   "cell_type": "code",
   "execution_count": 75,
   "id": "d662a6c2",
   "metadata": {},
   "outputs": [],
   "source": [
    "# Assuming you want to use all columns except 'Churn' as features\n",
    "X = df_train.drop(columns=['Churn'])\n"
   ]
  },
  {
   "cell_type": "code",
   "execution_count": 79,
   "id": "59a8c4b4",
   "metadata": {},
   "outputs": [
    {
     "data": {
      "text/plain": [
       "LogisticRegression(C=10, max_iter=300, solver='liblinear')"
      ]
     },
     "execution_count": 79,
     "metadata": {},
     "output_type": "execute_result"
    }
   ],
   "source": [
    "log_pol2 = LogisticRegression(C=10, class_weight=None, dual=False, fit_intercept=True, intercept_scaling=1, max_iter=300, multi_class='auto', n_jobs=None, \n",
    "                              penalty='l2', random_state=None, solver='liblinear', tol=0.0001, verbose=0, warm_start=False)\n",
    "log_pol2.fit(X_pol2, y)\n",
    "\n"
   ]
  },
  {
   "cell_type": "code",
   "execution_count": 81,
   "id": "06a38490",
   "metadata": {},
   "outputs": [],
   "source": [
    "# Define and train SVM with RBF Kernel\n",
    "SVM_RBF = SVC(C=100, cache_size=200, class_weight=None, coef0=0.0, decision_function_shape='ovr', degree=3, gamma=0.1, kernel='rbf', max_iter=-1, probability=True, \n",
    "              random_state=None, shrinking=True, tol=0.001, verbose=False)\n",
    "SVM_RBF.fit(X, y)\n",
    "\n",
    "# Calculate AUC score and ROC curve data for SVM with RBF Kernel\n",
    "auc_SVM_RBF, fpr_SVM_RBF, tpr_SVM_RBF = get_auc_scores(y, SVM_RBF.predict(X), SVM_RBF.predict_proba(X)[:, 1])\n"
   ]
  },
  {
   "cell_type": "code",
   "execution_count": 83,
   "id": "6a80ae9b",
   "metadata": {},
   "outputs": [],
   "source": [
    "from sklearn.svm import SVC\n",
    "\n",
    "# Define and train SVM with Polynomial Kernel\n",
    "SVM_POL = SVC(C=100, cache_size=200, class_weight=None, coef0=0.0,  decision_function_shape='ovr', degree=2, gamma=0.1, kernel='poly',  max_iter=-1,\n",
    "              probability=True, random_state=None, shrinking=True, tol=0.001, verbose=False)\n",
    "SVM_POL.fit(X, y)\n",
    "\n",
    "# Calculate AUC score and ROC curve data for SVM with Polynomial Kernel\n",
    "auc_SVM_POL, fpr_SVM_POL, tpr_SVM_POL = get_auc_scores(y, SVM_POL.predict(X), SVM_POL.predict_proba(X)[:, 1])\n"
   ]
  },
  {
   "cell_type": "code",
   "execution_count": 84,
   "id": "ff228295",
   "metadata": {},
   "outputs": [],
   "source": [
    "# Assuming you have defined and trained your classifiers (log_primal, log_pol2, SVM_RBF, SVM_POL, RF, XGB)\n",
    "# ...\n",
    "\n",
    "# Assuming you have defined the get_auc_scores function\n",
    "# ...\n",
    "\n",
    "# Calculate AUC scores and ROC curve data\n",
    "auc_log_primal, fpr_log_primal, tpr_log_primal = get_auc_scores(y, log_primal.predict(X), log_primal.predict_proba(X)[:, 1])\n",
    "auc_log_pol2, fpr_log_pol2, tpr_log_pol2 = get_auc_scores(y, log_pol2.predict(X_pol2), log_pol2.predict_proba(X_pol2)[:, 1])\n",
    "auc_SVM_RBF, fpr_SVM_RBF, tpr_SVM_RBF = get_auc_scores(y, SVM_RBF.predict(X), SVM_RBF.predict_proba(X)[:, 1])\n",
    "auc_SVM_POL, fpr_SVM_POL, tpr_SVM_POL = get_auc_scores(y, SVM_POL.predict(X), SVM_POL.predict_proba(X)[:, 1])\n",
    "auc_RF, fpr_RF, tpr_RF = get_auc_scores(y, RF.predict(X), RF.predict_proba(X)[:, 1])\n",
    "auc_XGB, fpr_XGB, tpr_XGB = get_auc_scores(y, XGB.predict(X), XGB.predict_proba(X)[:, 1])\n"
   ]
  },
  {
   "cell_type": "code",
   "execution_count": 85,
   "id": "ae930b0b",
   "metadata": {},
   "outputs": [
    {
     "data": {
      "image/png": "[encoded data removed]",
      "text/plain": [
       "<Figure size 1200x600 with 1 Axes>"
      ]
     },
     "metadata": {},
     "output_type": "display_data"
    }
   ],
   "source": [
    "plt.figure(figsize = (12,6), linewidth= 1)\n",
    "plt.plot(fpr_log_primal, tpr_log_primal, label = 'log primal Score: ' + str(round(auc_log_primal, 5)))\n",
    "plt.plot(fpr_log_pol2, tpr_log_pol2, label = 'log pol2 score: ' + str(round(auc_log_pol2, 5)))\n",
    "plt.plot(fpr_SVM_RBF, tpr_SVM_RBF, label = 'SVM RBF Score: ' + str(round(auc_SVM_RBF, 5)))\n",
    "plt.plot(fpr_SVM_POL, tpr_SVM_POL, label = 'SVM POL Score: ' + str(round(auc_SVM_POL, 5)))\n",
    "plt.plot(fpr_RF, tpr_RF, label = 'RF score: ' + str(round(auc_RF, 5)))\n",
    "plt.plot(fpr_XGB, tpr_XGB, label = 'XGB score: ' + str(round(auc_XGB, 5)))\n",
    "plt.plot([0,1], [0,1], 'k--', label = 'Random: 0.5')\n",
    "plt.xlabel('False positive rate')\n",
    "plt.ylabel('True positive rate')\n",
    "plt.title('ROC Curve')\n",
    "plt.legend(loc='best')\n",
    "#plt.savefig('roc_results_ratios.png')\n",
    "plt.show()\n"
   ]
  },
  {
   "cell_type": "code",
   "execution_count": 86,
   "id": "26c1d7fa",
   "metadata": {},
   "outputs": [],
   "source": [
    "#Test model prediction accuracy on test data"
   ]
  },
  {
   "cell_type": "code",
   "execution_count": null,
   "id": "d4b714be",
   "metadata": {},
   "outputs": [],
   "source": []
  }
 ],
 "metadata": {
  "kernelspec": {
   "display_name": "Python 3 (ipykernel)",
   "language": "python",
   "name": "python3"
  },
  "language_info": {
   "codemirror_mode": {
    "name": "ipython",
    "version": 3
   },
   "file_extension": ".py",
   "mimetype": "text/x-python",
   "name": "python",
   "nbconvert_exporter": "python",
   "pygments_lexer": "ipython3",
   "version": "3.9.13"
  }
 },
 "nbformat": 4,
 "nbformat_minor": 5
}
